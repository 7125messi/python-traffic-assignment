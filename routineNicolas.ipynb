{
 "cells": [
  {
   "cell_type": "code",
   "execution_count": 7,
   "metadata": {
    "collapsed": true
   },
   "outputs": [],
   "source": [
    "#import \n",
    "import numpy as np\n",
    "import math\n",
    "import matplotlib.pyplot as plt\n",
    "%matplotlib inline\n",
    "import simplekml\n",
    "\n"
   ]
  },
  {
   "cell_type": "code",
   "execution_count": 2,
   "metadata": {
    "collapsed": false
   },
   "outputs": [],
   "source": [
    "nodes = np.genfromtxt('data/I210_node.csv', delimiter=',', skip_header=1)\n",
    "network = np.genfromtxt('data/I210Sketch_net.csv',skip_header=7)"
   ]
  },
  {
   "cell_type": "markdown",
   "metadata": {},
   "source": [
    "## Calculate properties"
   ]
  },
  {
   "cell_type": "code",
   "execution_count": 104,
   "metadata": {
    "collapsed": true
   },
   "outputs": [],
   "source": [
    "#script used: http://andrew.hedges.name/experiments/haversine/\n",
    "#or http://www.johndcook.com/blog/python_longitude_latitude/ \n",
    "def distance_on_unit_sphere(lat1, long1, lat2, long2):\n",
    " \n",
    "    # Convert latitude and longitude to \n",
    "    # spherical coordinates in radians.\n",
    "    degrees_to_radians = math.pi/180.0\n",
    "         \n",
    "    # phi = 90 - latitude\n",
    "    phi1 = (90.0 - lat1)*degrees_to_radians\n",
    "    phi2 = (90.0 - lat2)*degrees_to_radians\n",
    "         \n",
    "    # theta = longitude\n",
    "    theta1 = long1*degrees_to_radians\n",
    "    theta2 = long2*degrees_to_radians\n",
    "         \n",
    "    # Compute spherical distance from spherical coordinates.\n",
    "         \n",
    "    # For two locations in spherical coordinates \n",
    "    # (1, theta, phi) and (1, theta', phi')\n",
    "    # cosine( arc length ) = \n",
    "    #    sin phi sin phi' cos(theta-theta') + cos phi cos phi'\n",
    "    # distance = rho * arc length\n",
    "     \n",
    "    cos = (math.sin(phi1)*math.sin(phi2)*math.cos(theta1 - theta2) + \n",
    "           math.cos(phi1)*math.cos(phi2))\n",
    "    arc = math.acos( cos )\n",
    " \n",
    "    # Remember to multiply arc by the radius of the earth \n",
    "    # in your favorite set of units to get length.\n",
    "    return arc"
   ]
  },
  {
   "cell_type": "code",
   "execution_count": 118,
   "metadata": {
    "collapsed": false
   },
   "outputs": [],
   "source": [
    "# compute length and travel time of each link\n",
    "def set_properties(nodes, network,v_arterial, v_highway):\n",
    "    R=3961\n",
    "    for i in range(len(network)):\n",
    "        o_lat = nodes[int(network[i][0])-1][1]\n",
    "        o_long = nodes[int(network[i][0])-1][2]\n",
    "        d_lat = nodes[int(network[i][1])-1][1]\n",
    "        d_long = nodes[int(network[i][1])-1][2]\n",
    "        c = distance_on_unit_sphere(o_lat, o_long, d_lat, d_long)\n",
    "        d = R*c\n",
    "        network[i][3] = d\n",
    "        if network[i][2]>4000:\n",
    "            fftt = network[i][3]/v_highway\n",
    "        else:\n",
    "            fftt = network[i][3]/v_arterial\n",
    "        network[i][4] = fftt\n",
    "    n=np.delete(network, 10, 1)\n",
    "    np.savetxt('mynewnetwork.txt', n, fmt='%d %d %d %1.5f %1.2f %1.2f %d %d %d %d', delimiter='\\t', newline='\\t;\\n', header='', footer='', comments='# ')\n",
    "            \n",
    "    "
   ]
  },
  {
   "cell_type": "code",
   "execution_count": 119,
   "metadata": {
    "collapsed": true
   },
   "outputs": [],
   "source": [
    "v_arterial = 3/float(8)\n",
    "v_highway = 65/float(60)\n",
    "set_properties(nodes,network,v_arterial,v_highway)"
   ]
  },
  {
   "cell_type": "markdown",
   "metadata": {
    "collapsed": true
   },
   "source": [
    "##Plot network"
   ]
  },
  {
   "cell_type": "code",
   "execution_count": 3,
   "metadata": {
    "collapsed": false
   },
   "outputs": [],
   "source": [
    "#create a numpy array containing informations of both I210_node and I210_net\n",
    "featuredNetwork = np.zeros((len(network),9))\n",
    "featuredNetwork[:,0]=network[:,0] # index of origin vertex\n",
    "featuredNetwork[:,3]=network[:,1] # index of destination vertex\n",
    "for i in range(len(featuredNetwork)):\n",
    "    featuredNetwork[i,1]=nodes[featuredNetwork[i,0]-1,2] #longitude of origin\n",
    "    featuredNetwork[i,2]=nodes[featuredNetwork[i,0]-1,1] #latitude of origin\n",
    "    featuredNetwork[i,4]=nodes[featuredNetwork[i,3]-1,2] #longitude of destination\n",
    "    featuredNetwork[i,5]=nodes[featuredNetwork[i,3]-1,1] #latitude of destination\n",
    "featuredNetwork[:,6]=network[:,2] # capacity\n",
    "featuredNetwork[:,7]=network[:,3] #length\n",
    "featuredNetwork[:,8]=network[:,4] ##fftt"
   ]
  },
  {
   "cell_type": "code",
   "execution_count": 26,
   "metadata": {
    "collapsed": false
   },
   "outputs": [
    {
     "data": {
      "image/png": "[encoded data removed]",
      "text/plain": [
       "<matplotlib.figure.Figure at 0x108200390>"
      ]
     },
     "metadata": {},
     "output_type": "display_data"
    }
   ],
   "source": [
    "plt.figure()\n",
    "for i in range(len(featuredNetwork)):\n",
    "    lines = plt.plot([featuredNetwork[i,1], featuredNetwork[i,4]], [featuredNetwork[i,2], featuredNetwork[i,5]])\n",
    "    if featuredNetwork[i,6] > 3000 :\n",
    "        col='r'\n",
    "        w=3.0\n",
    "    else:\n",
    "        col='b'\n",
    "        w=1.0\n",
    "    plt.setp(lines, color=col, linewidth=w)\n",
    "plt.axis([min_x,max_x,min_y,max_y]) #define the axis window\n",
    "plt.axis('off') #removes the axis of the picture\n",
    "plt.savefig('I210_network.png',bbox_inches='tight',pad_inches=0,frameon=False, transparent=True) #saves the plot as a png file\n",
    "plt.show()\n",
    "\n",
    "\n"
   ]
  },
  {
   "cell_type": "code",
   "execution_count": 25,
   "metadata": {
    "collapsed": true
   },
   "outputs": [],
   "source": [
    "#converts the png file into a kml file. The kml file can be opened by google earth\n",
    "kml = simplekml.Kml()\n",
    "ground = kml.newgroundoverlay(name='I210_network')\n",
    "ground.icon.href = 'I210_network.png'\n",
    "ground.gxlatlonquad.coords = [(min_x,min_y),(max_x,min_y),\n",
    "                              (max_x,max_y),(min_x,max_y)]\n",
    "\n",
    "#ground.latlonbox.north = max_y\n",
    "#ground.latlonbox.south = min_y\n",
    "#ground.latlonbox.east =  max_x\n",
    "#ground.latlonbox.west =  min_x\n",
    "kml.save(\"I210_network.kml\")"
   ]
  },
  {
   "cell_type": "code",
   "execution_count": 22,
   "metadata": {
    "collapsed": false
   },
   "outputs": [
    {
     "name": "stdout",
     "output_type": "stream",
     "text": [
      "(-118.155569, -118.09425899999999, 34.149521, 34.158285999999997)\n"
     ]
    }
   ],
   "source": [
    "min_x=np.min((featuredNetwork[:,1],featuredNetwork[:,4]))\n",
    "max_x=np.max((featuredNetwork[:,1],featuredNetwork[:,4]))\n",
    "min_y=np.min((featuredNetwork[:,2],featuredNetwork[:,5]))\n",
    "max_y=np.max((featuredNetwork[:,2],featuredNetwork[:,5]))\n",
    "print(min_x,max_x,min_y,max_y)"
   ]
  },
  {
   "cell_type": "code",
   "execution_count": null,
   "metadata": {
    "collapsed": true
   },
   "outputs": [],
   "source": []
  }
 ],
 "metadata": {
  "kernelspec": {
   "display_name": "Python 2",
   "language": "python",
   "name": "python2"
  },
  "language_info": {
   "codemirror_mode": {
    "name": "ipython",
    "version": 2
   },
   "file_extension": ".py",
   "mimetype": "text/x-python",
   "name": "python",
   "nbconvert_exporter": "python",
   "pygments_lexer": "ipython2",
   "version": "2.7.10"
  }
 },
 "nbformat": 4,
 "nbformat_minor": 0
}
