{
 "cells": [
  {
   "cell_type": "code",
   "execution_count": 116,
   "metadata": {
    "collapsed": true
   },
   "outputs": [],
   "source": [
    "#import \n",
    "import numpy as np\n",
    "import math"
   ]
  },
  {
   "cell_type": "code",
   "execution_count": 122,
   "metadata": {
    "collapsed": false
   },
   "outputs": [],
   "source": [
    "nodes = np.genfromtxt('data/I210_node.csv', delimiter=',', skip_header=1)\n",
    "network = np.genfromtxt('data/I210Sketch_net.txt',skip_header=7)"
   ]
  },
  {
   "cell_type": "code",
   "execution_count": 95,
   "metadata": {
    "collapsed": false
   },
   "outputs": [],
   "source": [
    "#script used: http://andrew.hedges.name/experiments/haversine/\n",
    "#or http://www.johndcook.com/blog/python_longitude_latitude/\n",
    "def distance(nodes, network):\n",
    "    R=3961\n",
    "    for i in range(len(network)):\n",
    "        o_lat = nodes[int(network[i][0])-1][1]\n",
    "        o_long = nodes[int(network[i][0])-1][2]\n",
    "        d_lat = nodes[int(network[i][1])-1][1]\n",
    "        d_long = nodes[int(network[i][1])-1][2]\n",
    "        dlon = d_long - o_long \n",
    "        dlat = d_lat - o_lat\n",
    "        a = (np.sin(dlat/2))**2 + np.cos(o_lat)*np.cos(d_lat)*(np.sin(dlon/2))**2 \n",
    "        c = 2*np.arctan2(np.sqrt(a),np.sqrt(1-a)) \n",
    "        d = R*c \n",
    "        network[i][3] = d\n",
    "        n=np.delete(network, 10, 1)\n",
    "    np.savetxt('mynewnetwork.txt', n, fmt='%.4e', delimiter=' ', newline='\\n', header='', footer='', comments='# ')"
   ]
  },
  {
   "cell_type": "code",
   "execution_count": 56,
   "metadata": {
    "collapsed": false
   },
   "outputs": [],
   "source": [
    "i=0\n",
    "R=3961\n",
    "o_lat = nodes[int(network[i][0])-1][1]\n",
    "o_long = nodes[int(network[i][0])-1][2]\n",
    "d_lat = nodes[int(network[i][1])-1][1]\n",
    "d_long = nodes[int(network[i][1])-1][2]\n",
    "dlon = d_long - o_long \n",
    "dlat = d_lat - o_lat\n",
    "a = (np.sin(dlat/2))**2 + np.cos(o_lat)*np.cos(d_lat)*(np.sin(dlon/2))**2 \n",
    "c = 2*np.arctan2(np.sqrt(a),np.sqrt(1-a)) \n",
    "d = R*c \n",
    "\n"
   ]
  },
  {
   "cell_type": "code",
   "execution_count": 63,
   "metadata": {
    "collapsed": false
   },
   "outputs": [
    {
     "name": "stdout",
     "output_type": "stream",
     "text": [
      "3961\n"
     ]
    }
   ],
   "source": [
    "lat1=34.157785 \n",
    "lat2=34.157824 \n",
    "lon1=-118.150564\n",
    "lon2=-118.141509\n",
    "dlon = lon2 - lon1 \n",
    "dlat = lat2 - lat1 \n",
    "a=(np.sin(dlat/2))**2 + np.cos(lat1)*np.cos(lat2)*(np.sin(dlon/2))**2\n",
    "c=2*np.arctan2( np.sqrt(a), np.sqrt(1-a) )\n",
    "d = R * c\n",
    "print(R)\n",
    "\n"
   ]
  },
  {
   "cell_type": "code",
   "execution_count": 64,
   "metadata": {
    "collapsed": true
   },
   "outputs": [],
   "source": [
    " \n",
    "def distance_on_unit_sphere(lat1, long1, lat2, long2):\n",
    " \n",
    "    # Convert latitude and longitude to \n",
    "    # spherical coordinates in radians.\n",
    "    degrees_to_radians = math.pi/180.0\n",
    "         \n",
    "    # phi = 90 - latitude\n",
    "    phi1 = (90.0 - lat1)*degrees_to_radians\n",
    "    phi2 = (90.0 - lat2)*degrees_to_radians\n",
    "         \n",
    "    # theta = longitude\n",
    "    theta1 = long1*degrees_to_radians\n",
    "    theta2 = long2*degrees_to_radians\n",
    "         \n",
    "    # Compute spherical distance from spherical coordinates.\n",
    "         \n",
    "    # For two locations in spherical coordinates \n",
    "    # (1, theta, phi) and (1, theta', phi')\n",
    "    # cosine( arc length ) = \n",
    "    #    sin phi sin phi' cos(theta-theta') + cos phi cos phi'\n",
    "    # distance = rho * arc length\n",
    "     \n",
    "    cos = (math.sin(phi1)*math.sin(phi2)*math.cos(theta1 - theta2) + \n",
    "           math.cos(phi1)*math.cos(phi2))\n",
    "    arc = math.acos( cos )\n",
    " \n",
    "    # Remember to multiply arc by the radius of the earth \n",
    "    # in your favorite set of units to get length.\n",
    "    return arc"
   ]
  },
  {
   "cell_type": "code",
   "execution_count": 104,
   "metadata": {
    "collapsed": false
   },
   "outputs": [],
   "source": [
    "def distance_in_miles(nodes, network):\n",
    "    R=3961\n",
    "    for i in range(len(network)):\n",
    "        o_lat = nodes[int(network[i][0])-1][1]\n",
    "        o_long = nodes[int(network[i][0])-1][2]\n",
    "        d_lat = nodes[int(network[i][1])-1][1]\n",
    "        d_long = nodes[int(network[i][1])-1][2]\n",
    "        c = distance_on_unit_sphere(o_lat, o_long, d_lat, d_long)\n",
    "        d = R*c\n",
    "        network[i][3] = d\n",
    "        n=np.delete(network, 10, 1)\n",
    "    np.savetxt('mynewnetwork.txt', n, fmt='%d %d %d %1.5f %1.2f %1.2f %d %d %d %d', delimiter='\\t', newline=';\\n', header='', footer='', comments='# ')"
   ]
  },
  {
   "cell_type": "code",
   "execution_count": 105,
   "metadata": {
    "collapsed": false
   },
   "outputs": [],
   "source": [
    "distance_in_miles(nodes,network)"
   ]
  },
  {
   "cell_type": "code",
   "execution_count": 85,
   "metadata": {
    "collapsed": false
   },
   "outputs": [
    {
     "name": "stdout",
     "output_type": "stream",
     "text": [
      "nan\n"
     ]
    }
   ],
   "source": [
    "print(network[0][10])"
   ]
  },
  {
   "cell_type": "code",
   "execution_count": 87,
   "metadata": {
    "collapsed": false
   },
   "outputs": [
    {
     "ename": "NameError",
     "evalue": "name 'string' is not defined",
     "output_type": "error",
     "traceback": [
      "\u001b[0;31m---------------------------------------------------------------------------\u001b[0m",
      "\u001b[0;31mNameError\u001b[0m                                 Traceback (most recent call last)",
      "\u001b[0;32m<ipython-input-87-941fc199e489>\u001b[0m in \u001b[0;36m<module>\u001b[0;34m()\u001b[0m\n\u001b[0;32m----> 1\u001b[0;31m \u001b[0mnetwork\u001b[0m\u001b[0;34m[\u001b[0m\u001b[0;36m0\u001b[0m\u001b[0;34m]\u001b[0m\u001b[0;34m[\u001b[0m\u001b[0;36m10\u001b[0m\u001b[0;34m]\u001b[0m\u001b[0;34m=\u001b[0m\u001b[0mstring\u001b[0m\u001b[0;34m(\u001b[0m\u001b[0;34m';'\u001b[0m\u001b[0;34m)\u001b[0m\u001b[0;34m\u001b[0m\u001b[0m\n\u001b[0m",
      "\u001b[0;31mNameError\u001b[0m: name 'string' is not defined"
     ]
    }
   ],
   "source": [
    "network[0][10]=string(';')"
   ]
  },
  {
   "cell_type": "code",
   "execution_count": 92,
   "metadata": {
    "collapsed": true
   },
   "outputs": [],
   "source": [
    "n=np.delete(network, 10, 1)"
   ]
  },
  {
   "cell_type": "code",
   "execution_count": 124,
   "metadata": {
    "collapsed": false
   },
   "outputs": [],
   "source": [
    "def set_speed(network,v_arterial, v_highway):\n",
    "        for i in range(len(network)):\n",
    "            if network[i][2]>4000:\n",
    "                fftt = network[i][3]/v_highway\n",
    "            else:\n",
    "                fftt = network[i][3]/v_arterial\n",
    "            network[i][4] = fftt\n",
    "            n=np.delete(network, 10, 1)\n",
    "            np.savetxt('mynewnetwork.txt', n, fmt='%d %d %d %1.5f %1.2f %1.2f %d %d %d %d', delimiter='\\t', newline=';\\n', header='', footer='', comments='# ')\n",
    "            \n",
    "            \n",
    "\n"
   ]
  },
  {
   "cell_type": "code",
   "execution_count": 125,
   "metadata": {
    "collapsed": false
   },
   "outputs": [],
   "source": [
    "v_arterial = 3/float(8)\n",
    "v_highway = 65/float(60)\n",
    "set_speed(network,v_arterial,v_highway)"
   ]
  },
  {
   "cell_type": "code",
   "execution_count": 123,
   "metadata": {
    "collapsed": false
   },
   "outputs": [
    {
     "name": "stdout",
     "output_type": "stream",
     "text": [
      "[[  1.00000000e+00   2.00000000e+00   2.00000000e+03   5.18010000e-01\n",
      "    3.25000000e+00   1.50000000e-01   4.00000000e+00   0.00000000e+00\n",
      "    0.00000000e+00   2.00000000e+00              nan]\n",
      " [  1.00000000e+00   7.00000000e+00   2.00000000e+03   4.29870000e-01\n",
      "    1.71000000e+00   1.50000000e-01   4.00000000e+00   0.00000000e+00\n",
      "    0.00000000e+00   1.00000000e+00              nan]\n",
      " [  2.00000000e+00   3.00000000e+00   2.00000000e+03   5.18820000e-01\n",
      "    2.47000000e+00   1.50000000e-01   4.00000000e+00   0.00000000e+00\n",
      "    0.00000000e+00   1.00000000e+00              nan]\n",
      " [  2.00000000e+00   8.00000000e+00   2.00000000e+03   4.26150000e-01\n",
      "    3.25000000e+00   1.50000000e-01   4.00000000e+00   0.00000000e+00\n",
      "    0.00000000e+00   2.00000000e+00              nan]\n",
      " [  3.00000000e+00   4.00000000e+00   2.00000000e+03   6.28650000e-01\n",
      "    2.17000000e+00   1.50000000e-01   4.00000000e+00   0.00000000e+00\n",
      "    0.00000000e+00   2.00000000e+00              nan]\n",
      " [  3.00000000e+00   9.00000000e+00   2.00000000e+03   4.23380000e-01\n",
      "    2.19000000e+00   1.50000000e-01   4.00000000e+00   0.00000000e+00\n",
      "    0.00000000e+00   1.00000000e+00              nan]\n",
      " [  4.00000000e+00   5.00000000e+00   2.00000000e+03   4.72780000e-01\n",
      "    2.11000000e+00   1.50000000e-01   4.00000000e+00   0.00000000e+00\n",
      "    0.00000000e+00   1.00000000e+00              nan]\n",
      " [  4.00000000e+00   1.00000000e+01   2.00000000e+03   3.94280000e-01\n",
      "    2.17000000e+00   1.50000000e-01   4.00000000e+00   0.00000000e+00\n",
      "    0.00000000e+00   2.00000000e+00              nan]\n",
      " [  5.00000000e+00   6.00000000e+00   2.00000000e+03   8.42770000e-01\n",
      "    3.93000000e+00   1.50000000e-01   4.00000000e+00   0.00000000e+00\n",
      "    0.00000000e+00   2.00000000e+00              nan]\n",
      " [  5.00000000e+00   1.10000000e+01   2.00000000e+03   3.90250000e-01\n",
      "    1.47000000e+00   1.50000000e-01   4.00000000e+00   0.00000000e+00\n",
      "    0.00000000e+00   2.00000000e+00              nan]\n",
      " [  6.00000000e+00   1.20000000e+01   2.00000000e+03   4.09410000e-01\n",
      "    2.86000000e+00   1.50000000e-01   4.00000000e+00   0.00000000e+00\n",
      "    0.00000000e+00   2.00000000e+00              nan]\n",
      " [  7.00000000e+00   1.00000000e+00   2.00000000e+03   4.29870000e-01\n",
      "    3.93000000e+00   1.50000000e-01   4.00000000e+00   0.00000000e+00\n",
      "    0.00000000e+00   2.00000000e+00              nan]\n",
      " [  7.00000000e+00   8.00000000e+00   1.00000000e+04   5.19060000e-01\n",
      "    2.72000000e+00   1.50000000e-01   4.00000000e+00   0.00000000e+00\n",
      "    0.00000000e+00   2.00000000e+00              nan]\n",
      " [  7.00000000e+00   1.30000000e+01   2.00000000e+03   1.34390000e-01\n",
      "    2.90000000e+00   1.50000000e-01   4.00000000e+00   0.00000000e+00\n",
      "    0.00000000e+00   1.00000000e+00              nan]\n",
      " [  8.00000000e+00   2.00000000e+00   2.00000000e+03   4.26150000e-01\n",
      "    3.25000000e+00   1.50000000e-01   4.00000000e+00   0.00000000e+00\n",
      "    0.00000000e+00   2.00000000e+00              nan]\n",
      " [  8.00000000e+00   9.00000000e+00   1.00000000e+04   5.18560000e-01\n",
      "    1.71000000e+00   1.50000000e-01   4.00000000e+00   0.00000000e+00\n",
      "    0.00000000e+00   1.00000000e+00              nan]\n",
      " [  8.00000000e+00   4.00000000e+00   2.00000000e+03   1.22045000e+00\n",
      "    2.47000000e+00   1.50000000e-01   4.00000000e+00   0.00000000e+00\n",
      "    0.00000000e+00   1.00000000e+00              nan]\n",
      " [  9.00000000e+00   3.00000000e+00   2.00000000e+03   4.23380000e-01\n",
      "    3.25000000e+00   1.50000000e-01   4.00000000e+00   0.00000000e+00\n",
      "    0.00000000e+00   2.00000000e+00              nan]\n",
      " [  9.00000000e+00   1.00000000e+01   1.00000000e+04   6.30140000e-01\n",
      "    2.17000000e+00   1.50000000e-01   4.00000000e+00   0.00000000e+00\n",
      "    0.00000000e+00   2.00000000e+00              nan]\n",
      " [  9.00000000e+00   1.50000000e+01   2.00000000e+03   1.42700000e-01\n",
      "    2.19000000e+00   1.50000000e-01   4.00000000e+00   0.00000000e+00\n",
      "    0.00000000e+00   1.00000000e+00              nan]\n",
      " [  1.00000000e+01   4.00000000e+00   2.00000000e+03   3.94280000e-01\n",
      "    2.11000000e+00   1.50000000e-01   4.00000000e+00   0.00000000e+00\n",
      "    0.00000000e+00   1.00000000e+00              nan]\n",
      " [  1.00000000e+01   1.10000000e+01   1.00000000e+04   4.69900000e-01\n",
      "    2.17000000e+00   1.50000000e-01   4.00000000e+00   0.00000000e+00\n",
      "    0.00000000e+00   2.00000000e+00              nan]\n",
      " [  1.00000000e+01   1.60000000e+01   2.00000000e+03   1.78920000e-01\n",
      "    3.93000000e+00   1.50000000e-01   4.00000000e+00   0.00000000e+00\n",
      "    0.00000000e+00   2.00000000e+00              nan]\n",
      " [  1.10000000e+01   5.00000000e+00   2.00000000e+03   3.90250000e-01\n",
      "    1.47000000e+00   1.50000000e-01   4.00000000e+00   0.00000000e+00\n",
      "    0.00000000e+00   2.00000000e+00              nan]\n",
      " [  1.10000000e+01   1.20000000e+01   1.00000000e+04   8.38580000e-01\n",
      "    2.86000000e+00   1.50000000e-01   4.00000000e+00   0.00000000e+00\n",
      "    0.00000000e+00   2.00000000e+00              nan]\n",
      " [  1.10000000e+01   1.70000000e+01   2.00000000e+03   1.86110000e-01\n",
      "    3.93000000e+00   1.50000000e-01   4.00000000e+00   0.00000000e+00\n",
      "    0.00000000e+00   2.00000000e+00              nan]\n",
      " [  1.20000000e+01   6.00000000e+00   3.50000000e+03   4.09410000e-01\n",
      "    2.72000000e+00   1.50000000e-01   4.00000000e+00   0.00000000e+00\n",
      "    0.00000000e+00   2.00000000e+00              nan]\n",
      " [  1.20000000e+01   1.80000000e+01   2.00000000e+03   1.77070000e-01\n",
      "    2.90000000e+00   1.50000000e-01   4.00000000e+00   0.00000000e+00\n",
      "    0.00000000e+00   1.00000000e+00              nan]\n",
      " [  1.20000000e+01   2.00000000e+01   1.00000000e+04   2.43440000e-01\n",
      "    2.90000000e+00   1.50000000e-01   4.00000000e+00   0.00000000e+00\n",
      "    0.00000000e+00   1.00000000e+00              nan]\n",
      " [  1.90000000e+01   7.00000000e+00   1.00000000e+04   2.00277000e+00\n",
      "    2.90000000e+00   1.50000000e-01   4.00000000e+00   0.00000000e+00\n",
      "    0.00000000e+00   1.00000000e+00              nan]]\n"
     ]
    }
   ],
   "source": [
    "print(network)"
   ]
  },
  {
   "cell_type": "code",
   "execution_count": null,
   "metadata": {
    "collapsed": true
   },
   "outputs": [],
   "source": []
  }
 ],
 "metadata": {
  "kernelspec": {
   "display_name": "Python 2",
   "language": "python",
   "name": "python2"
  },
  "language_info": {
   "codemirror_mode": {
    "name": "ipython",
    "version": 2
   },
   "file_extension": ".py",
   "mimetype": "text/x-python",
   "name": "python",
   "nbconvert_exporter": "python",
   "pygments_lexer": "ipython2",
   "version": "2.7.10"
  }
 },
 "nbformat": 4,
 "nbformat_minor": 0
}
